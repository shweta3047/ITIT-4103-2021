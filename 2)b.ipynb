{
  "nbformat": 4,
  "nbformat_minor": 0,
  "metadata": {
    "colab": {
      "name": "2)b.ipynb",
      "provenance": []
    },
    "kernelspec": {
      "name": "python3",
      "display_name": "Python 3"
    },
    "language_info": {
      "name": "python"
    }
  },
  "cells": [
    {
      "cell_type": "code",
      "metadata": {
        "id": "AZtIbkG13oQd"
      },
      "source": [
        "\n",
        "import numpy as np\n",
        "import matplotlib\n",
        "import matplotlib.pyplot as plt\n",
        "import pandas as pd\n",
        "from sklearn import datasets\n",
        "from sklearn.metrics import classification_report\n",
        "from tqdm import tqdm\n",
        "from time import time\n",
        "from scipy.stats import multivariate_normal as mvn\n",
        "from sklearn.metrics import confusion_matrix\n",
        "from sklearn.metrics import classification_report"
      ],
      "execution_count": 64,
      "outputs": []
    },
    {
      "cell_type": "code",
      "metadata": {
        "id": "Fx2qWmt23vSl"
      },
      "source": [
        "from keras.datasets import mnist\n",
        "(x_train, y_train), (x_test, y_test) = mnist.load_data()\n",
        "x_train=x_train.reshape(60000,784)\n",
        "x_test=x_test.reshape(10000,784)"
      ],
      "execution_count": 65,
      "outputs": []
    },
    {
      "cell_type": "code",
      "metadata": {
        "id": "Lb7qiTYr1JzF"
      },
      "source": [
        "def NaiveBayes(X_train, y_train, X_test,smoothing):\n",
        "  curve_data = dict()\n",
        "  probab_prior= dict()\n",
        "  training_label = set(y_train)\n",
        "  #testing_label = set(y_test)\n",
        "  for c in training_label:\n",
        "    current_X = X_train[y_train==c]\n",
        "    curve_data[c] = {\n",
        "        'mean':current_X.mean(axis=0)+smoothing/2,\n",
        "        'cov' :current_X.var(axis=0)+smoothing\n",
        "    }\n",
        "  \n",
        "    probab_prior[c] = float(len([y_train==c]))/len(y_train)\n",
        "    N, D = X_test.shape\n",
        "    Probabilties = np.zeros((N, len(curve_data))) \n",
        "   \n",
        "    for c, g in curve_data.items():\n",
        "      mean, cov = g['mean'], g['cov']\n",
        "      Probabilties[:,c] = mvn.logpdf(X_test, mean=mean, cov=cov) + np.log(probab_prior[c])\n",
        "    y_hat = np.argmax(Probabilties, axis=1)\n",
        "\n",
        "  return y_hat"
      ],
      "execution_count": 86,
      "outputs": []
    },
    {
      "cell_type": "code",
      "metadata": {
        "id": "klmcrik13zyG"
      },
      "source": [
        "y_pred=NaiveBayes(x_train, y_train, x_test,10)"
      ],
      "execution_count": 87,
      "outputs": []
    },
    {
      "cell_type": "code",
      "metadata": {
        "colab": {
          "base_uri": "https://localhost:8080/"
        },
        "id": "4pOcwiYp37rK",
        "outputId": "d3c30541-1494-4685-b4f7-4c55df9bdd4a"
      },
      "source": [
        "\n",
        "matrix = confusion_matrix(y_test,y_pred)\n",
        "print(matrix)"
      ],
      "execution_count": 88,
      "outputs": [
        {
          "output_type": "stream",
          "name": "stdout",
          "text": [
            "[[ 873    0    8    6    3   12   26    1   47    4]\n",
            " [   0 1081    5    5    0    3    7    0   33    1]\n",
            " [  16   16  736   41   11    7   74    8  115    8]\n",
            " [   5   30   31  775    4   21   22   19   49   54]\n",
            " [   6    2   12    3  595   14   28    6   22  294]\n",
            " [  20   15    9   86   29  565   24    8   89   47]\n",
            " [   8    9   13    2    3   20  884    0   18    1]\n",
            " [   0   14   10   11   22    2    3  808   20  138]\n",
            " [   8   65   12   31   16   34    8    7  704   89]\n",
            " [   4    7    6    8   34    1    0   25   22  902]]\n"
          ]
        }
      ]
    },
    {
      "cell_type": "code",
      "metadata": {
        "colab": {
          "base_uri": "https://localhost:8080/"
        },
        "id": "BqeT_fjAz3UM",
        "outputId": "5a83a7f4-971f-4acf-b259-cc65389f3889"
      },
      "source": [
        "from sklearn.metrics import classification_report\n",
        "print('\\nClassification Report\\n')\n",
        "print(classification_report(y_test, y_pred))\n"
      ],
      "execution_count": 89,
      "outputs": [
        {
          "output_type": "stream",
          "name": "stdout",
          "text": [
            "\n",
            "Classification Report\n",
            "\n",
            "              precision    recall  f1-score   support\n",
            "\n",
            "           0       0.93      0.89      0.91       980\n",
            "           1       0.87      0.95      0.91      1135\n",
            "           2       0.87      0.71      0.79      1032\n",
            "           3       0.80      0.77      0.78      1010\n",
            "           4       0.83      0.61      0.70       982\n",
            "           5       0.83      0.63      0.72       892\n",
            "           6       0.82      0.92      0.87       958\n",
            "           7       0.92      0.79      0.85      1028\n",
            "           8       0.63      0.72      0.67       974\n",
            "           9       0.59      0.89      0.71      1009\n",
            "\n",
            "    accuracy                           0.79     10000\n",
            "   macro avg       0.81      0.79      0.79     10000\n",
            "weighted avg       0.81      0.79      0.79     10000\n",
            "\n"
          ]
        }
      ]
    },
    {
      "cell_type": "code",
      "metadata": {
        "id": "wKybDGR4V4i1"
      },
      "source": [
        ""
      ],
      "execution_count": null,
      "outputs": []
    }
  ]
}